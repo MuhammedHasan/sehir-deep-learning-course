{
 "cells": [
  {
   "cell_type": "markdown",
   "metadata": {},
   "source": [
    "# Programming Assignment 1 - A"
   ]
  },
  {
   "cell_type": "markdown",
   "metadata": {},
   "source": [
    "I code it with pure python (without library) except visualization of dendogram"
   ]
  },
  {
   "cell_type": "code",
   "execution_count": 1,
   "metadata": {
    "collapsed": false
   },
   "outputs": [],
   "source": [
    "import os\n",
    "import math\n",
    "import re"
   ]
  },
  {
   "cell_type": "code",
   "execution_count": 2,
   "metadata": {
    "collapsed": true
   },
   "outputs": [],
   "source": [
    "def preprocessor(text):\n",
    "    text = re.sub('<[^>]*>', '', text)\n",
    "    emoticons = re.findall('(?::|;|=)(?:-)?(?:\\)|\\(|D|P)', text)\n",
    "    text = re.sub('[\\W]+', ' ', text.lower()) +\\\n",
    "        ' '.join(emoticons).replace('-', '')\n",
    "    return text.strip()"
   ]
  },
  {
   "cell_type": "code",
   "execution_count": 3,
   "metadata": {
    "collapsed": true
   },
   "outputs": [],
   "source": [
    "basepath = './aclImdb'\n",
    "def read_corpus():\n",
    "    for s in ('test', 'train'):\n",
    "        for l in ('pos', 'neg'):\n",
    "            path = os.path.join(basepath, s, l)\n",
    "            for file in os.listdir(path):\n",
    "                with open(os.path.join(path, file), 'r', encoding='utf-8') as infile:\n",
    "                    yield preprocessor(infile.read())"
   ]
  },
  {
   "cell_type": "code",
   "execution_count": 4,
   "metadata": {
    "collapsed": false
   },
   "outputs": [],
   "source": [
    "w2w_vec = dict()\n",
    "w_vec = dict()\n",
    "nneighbors = 10"
   ]
  },
  {
   "cell_type": "code",
   "execution_count": 5,
   "metadata": {
    "collapsed": false
   },
   "outputs": [],
   "source": [
    "for text in read_corpus():\n",
    "    words = text.split()\n",
    "    for wi in range(len(words)):\n",
    "        w_vec[words[wi]] = w_vec.get(words[wi], 0) + 1\n",
    "        for i in range(wi + 1, wi + 1 + nneighbors):\n",
    "            if len(words) > i:\n",
    "                w_pair = (words[wi], words[i])\n",
    "                w2w_vec[w_pair] = w2w_vec.get(w_pair, 0) + 1 \n",
    "        for i in range(wi - nneighbors, wi):\n",
    "            if i >= 0:\n",
    "                w_pair = (words[wi], words[i])\n",
    "                w2w_vec[w_pair] = w2w_vec.get(w_pair, 0) + 1"
   ]
  },
  {
   "cell_type": "code",
   "execution_count": 6,
   "metadata": {
    "collapsed": true
   },
   "outputs": [],
   "source": [
    "def pmi_scoring(w1, w2):\n",
    "    score = w2w_vec[(w1,w2)] / (w_vec[w1] * w_vec[w2])\n",
    "    return math.log2(score + 0.1e-3)"
   ]
  },
  {
   "cell_type": "code",
   "execution_count": 7,
   "metadata": {
    "collapsed": true
   },
   "outputs": [],
   "source": [
    "def ppmi_scoring(w1,w2):\n",
    "    return max(pmi_scoring(w1,w2), 0)"
   ]
  },
  {
   "cell_type": "code",
   "execution_count": 8,
   "metadata": {
    "collapsed": false
   },
   "outputs": [],
   "source": [
    "ppmi_vec = dict()\n",
    "for w1, w2 in w2w_vec:\n",
    "    score = ppmi_scoring(w1,w2)\n",
    "    if score:\n",
    "        if w1 not in ppmi_vec:\n",
    "            ppmi_vec[w1] = dict()\n",
    "        ppmi_vec[w1][w2] = score    "
   ]
  },
  {
   "cell_type": "markdown",
   "metadata": {},
   "source": [
    "PCA not helping ;thus, I added but do not used"
   ]
  },
  {
   "cell_type": "code",
   "execution_count": 39,
   "metadata": {
    "collapsed": false
   },
   "outputs": [],
   "source": [
    "from numpy.linalg import svd\n",
    "from pandas import DataFrame\n",
    "\n",
    "df = DataFrame(ppmi_vec).T.fillna(0)\n",
    "U, s, V = svd(df.as_matrix(), full_matrices=True)"
   ]
  },
  {
   "cell_type": "code",
   "execution_count": 9,
   "metadata": {
    "collapsed": true
   },
   "outputs": [],
   "source": [
    "def cos_similarity(w1,w2):\n",
    "    dot_w1_w2 = 0\n",
    "    for w_other in ppmi_vec[w1]:\n",
    "        if w_other in ppmi_vec[w2]:\n",
    "            dot_w1_w2 += ppmi_vec[w1][w_other] * ppmi_vec[w2][w_other]\n",
    "    vec_len_w1 = math.sqrt(sum([v**2 for v in ppmi_vec[w1].values()]))\n",
    "    vec_len_w2 = math.sqrt(sum([v**2 for v in ppmi_vec[w2].values()]))\n",
    "    return dot_w1_w2 / (vec_len_w1 * vec_len_w2)"
   ]
  },
  {
   "cell_type": "code",
   "execution_count": 10,
   "metadata": {
    "collapsed": false
   },
   "outputs": [
    {
     "data": {
      "text/plain": [
       "9375"
      ]
     },
     "execution_count": 10,
     "metadata": {},
     "output_type": "execute_result"
    }
   ],
   "source": [
    "len(ppmi_vec)"
   ]
  },
  {
   "cell_type": "code",
   "execution_count": 11,
   "metadata": {
    "collapsed": false
   },
   "outputs": [],
   "source": [
    "sim_w = dict()\n",
    "for w1 in ppmi_vec:\n",
    "    for w2 in ppmi_vec:\n",
    "        if w1 == w2:\n",
    "            continue\n",
    "        sim = cos_similarity(w1, w2)\n",
    "        if sim: \n",
    "             sim_w[(w1,w2)] = sim"
   ]
  },
  {
   "cell_type": "code",
   "execution_count": 16,
   "metadata": {
    "collapsed": false,
    "scrolled": false
   },
   "outputs": [
    {
     "data": {
      "text/plain": [
       "7028"
      ]
     },
     "execution_count": 16,
     "metadata": {},
     "output_type": "execute_result"
    }
   ],
   "source": [
    "len(sim_w)"
   ]
  },
  {
   "cell_type": "code",
   "execution_count": 12,
   "metadata": {
    "collapsed": false,
    "scrolled": false
   },
   "outputs": [],
   "source": [
    "def most_similar_by_word(word):\n",
    "    return list(filter(lambda x: x[0][0] == word , sim_w.items()))"
   ]
  },
  {
   "cell_type": "markdown",
   "metadata": {},
   "source": [
    "Dataset contains range of language. I only interested with turkish and english. Those are my selection."
   ]
  },
  {
   "cell_type": "code",
   "execution_count": 50,
   "metadata": {
    "collapsed": true
   },
   "outputs": [],
   "source": [
    "word_by_subj = list()"
   ]
  },
  {
   "cell_type": "markdown",
   "metadata": {},
   "source": [
    "### Artist"
   ]
  },
  {
   "cell_type": "code",
   "execution_count": 51,
   "metadata": {
    "collapsed": false
   },
   "outputs": [
    {
     "data": {
      "text/plain": [
       "[(('muslum', 'ferdi'), 0.8750000000000001),\n",
       " (('muslum', 'muren'), 0.8017837257372732),\n",
       " (('muslum', 'tatlises'), 0.8750000000000001),\n",
       " (('muslum', 'ajda'), 0.8750000000000001),\n",
       " (('muslum', 'pekkan'), 0.8750000000000001),\n",
       " (('muslum', 'ozbegen'), 0.8017837257372732),\n",
       " (('muslum', 'gurses'), 0.8750000000000001),\n",
       " (('muslum', 'teoman'), 0.8750000000000001)]"
      ]
     },
     "execution_count": 51,
     "metadata": {},
     "output_type": "execute_result"
    }
   ],
   "source": [
    "msbw = most_similar_by_word('muslum')\n",
    "word_by_subj.append('muslum')\n",
    "word_by_subj.extend(map(lambda x: x[0][1], msbw))\n",
    "msbw"
   ]
  },
  {
   "cell_type": "markdown",
   "metadata": {},
   "source": [
    "### Kira"
   ]
  },
  {
   "cell_type": "code",
   "execution_count": 52,
   "metadata": {
    "collapsed": false
   },
   "outputs": [
    {
     "data": {
      "text/plain": [
       "[(('kirayi', 'istemiyorum'), 0.40824829046386296),\n",
       " (('kirayi', 'calismasam'), 0.40824829046386296),\n",
       " (('kirayi', 'odeyecek'), 0.5)]"
      ]
     },
     "execution_count": 52,
     "metadata": {},
     "output_type": "execute_result"
    }
   ],
   "source": [
    "most_similar_by_word('kirayi')"
   ]
  },
  {
   "cell_type": "markdown",
   "metadata": {},
   "source": [
    "### Scinetists"
   ]
  },
  {
   "cell_type": "code",
   "execution_count": 53,
   "metadata": {
    "collapsed": false
   },
   "outputs": [
    {
     "data": {
      "text/plain": [
       "[(('newtonian', 'gallilean'), 0.5), (('newtonian', 'expores'), 0.5)]"
      ]
     },
     "execution_count": 53,
     "metadata": {},
     "output_type": "execute_result"
    }
   ],
   "source": [
    "msbw = most_similar_by_word('newtonian')\n",
    "word_by_subj.append('newtonian')\n",
    "word_by_subj.extend(map(lambda x: x[0][1], msbw))\n",
    "msbw"
   ]
  },
  {
   "cell_type": "markdown",
   "metadata": {},
   "source": [
    "### Arteology"
   ]
  },
  {
   "cell_type": "code",
   "execution_count": 54,
   "metadata": {
    "collapsed": false
   },
   "outputs": [
    {
     "data": {
      "text/plain": [
       "[(('hieroglyphic', 'phoenicians'), 0.5),\n",
       " (('hieroglyphic', 'inscriptions'), 0.5)]"
      ]
     },
     "execution_count": 54,
     "metadata": {},
     "output_type": "execute_result"
    }
   ],
   "source": [
    "msbw = most_similar_by_word('hieroglyphic')\n",
    "word_by_subj.append('hieroglyphic')\n",
    "word_by_subj.extend(map(lambda x: x[0][1], msbw))\n",
    "msbw"
   ]
  },
  {
   "cell_type": "markdown",
   "metadata": {},
   "source": [
    "### Religion"
   ]
  },
  {
   "cell_type": "code",
   "execution_count": 55,
   "metadata": {
    "collapsed": false
   },
   "outputs": [
    {
     "data": {
      "text/plain": [
       "[(('surplice', 'alb'), 0.40824829046386296),\n",
       " (('surplice', 'chasuble'), 0.40824829046386296)]"
      ]
     },
     "execution_count": 55,
     "metadata": {},
     "output_type": "execute_result"
    }
   ],
   "source": [
    "msbw = most_similar_by_word('surplice')\n",
    "word_by_subj.append('surplice')\n",
    "word_by_subj.extend(map(lambda x: x[0][1], msbw))\n",
    "msbw"
   ]
  },
  {
   "cell_type": "code",
   "execution_count": 56,
   "metadata": {
    "collapsed": false
   },
   "outputs": [
    {
     "data": {
      "text/plain": [
       "['muslum',\n",
       " 'ferdi',\n",
       " 'muren',\n",
       " 'tatlises',\n",
       " 'ajda',\n",
       " 'pekkan',\n",
       " 'ozbegen',\n",
       " 'gurses',\n",
       " 'teoman',\n",
       " 'newtonian',\n",
       " 'gallilean',\n",
       " 'expores',\n",
       " 'hieroglyphic',\n",
       " 'phoenicians',\n",
       " 'inscriptions',\n",
       " 'surplice',\n",
       " 'alb',\n",
       " 'chasuble']"
      ]
     },
     "execution_count": 56,
     "metadata": {},
     "output_type": "execute_result"
    }
   ],
   "source": [
    "word_by_subj"
   ]
  },
  {
   "cell_type": "code",
   "execution_count": 104,
   "metadata": {
    "collapsed": false
   },
   "outputs": [],
   "source": [
    "sim_word_by_subj = [\n",
    "    (i,j, cos_similarity(word_by_subj[i],word_by_subj[j])) \n",
    "    for i in range(len(word_by_subj) - 1) \n",
    "    for j in range(i + 1, len(word_by_subj)) \n",
    "]"
   ]
  },
  {
   "cell_type": "code",
   "execution_count": 105,
   "metadata": {
    "collapsed": false
   },
   "outputs": [],
   "source": [
    "from scipy.sparse import csr_matrix\n",
    "row, col, data = zip(*sim_word_by_subj)\n",
    "dist_mat = 1 - csr_matrix((data, (row, col))).toarray()"
   ]
  },
  {
   "cell_type": "code",
   "execution_count": 117,
   "metadata": {
    "collapsed": false
   },
   "outputs": [
    {
     "name": "stdout",
     "output_type": "stream",
     "text": [
      "\u001b[H\u001b[2J"
     ]
    },
    {
     "data": {
      "image/png": "[encoded data removed]",
      "text/plain": [
       "<matplotlib.figure.Figure at 0x7fb718f0fe10>"
      ]
     },
     "metadata": {},
     "output_type": "display_data"
    }
   ],
   "source": [
    "import matplotlib.pyplot as plt\n",
    "from scipy.cluster.hierarchy import linkage\n",
    "import numpy as np\n",
    "from scipy.cluster.hierarchy import dendrogram\n",
    "from pandas import DataFrame\n",
    "\n",
    "%matplotlib inline\n",
    "dendrogram(linkage(dist_mat, \"single\"),\n",
    "           color_threshold=1,\n",
    "           orientation=\"left\",\n",
    "           labels=word_by_subj)\n",
    "%clear"
   ]
  },
  {
   "cell_type": "code",
   "execution_count": null,
   "metadata": {
    "collapsed": true
   },
   "outputs": [],
   "source": []
  }
 ],
 "metadata": {
  "kernelspec": {
   "display_name": "Python 3",
   "language": "python",
   "name": "python3"
  },
  "language_info": {
   "codemirror_mode": {
    "name": "ipython",
    "version": 3
   },
   "file_extension": ".py",
   "mimetype": "text/x-python",
   "name": "python",
   "nbconvert_exporter": "python",
   "pygments_lexer": "ipython3",
   "version": "3.5.2"
  }
 },
 "nbformat": 4,
 "nbformat_minor": 2
}
